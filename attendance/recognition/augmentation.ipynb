{
 "cells": [
  {
   "cell_type": "code",
   "execution_count": null,
   "metadata": {},
   "outputs": [],
   "source": [
    "from os import remove, listdir, path\n",
    "from tensorflow.keras.preprocessing.image import ImageDataGenerator, img_to_array, load_img"
   ]
  },
  {
   "cell_type": "code",
   "execution_count": null,
   "metadata": {},
   "outputs": [],
   "source": [
    "base_directory = \"/home/husen/SE - 4 - 1/MAI/Attendance/attendance/attendance/recognition\""
   ]
  },
  {
   "cell_type": "code",
   "execution_count": null,
   "metadata": {},
   "outputs": [],
   "source": [
    "def delete_image(image_path):\n",
    "    try:\n",
    "        remove(image_path)\n",
    "        print(f\"Image at {image_path} deleted successfully.\")\n",
    "    except OSError as e:\n",
    "        print(f\"Error deleting image at {image_path}: {e}\")"
   ]
  },
  {
   "cell_type": "code",
   "execution_count": null,
   "metadata": {},
   "outputs": [],
   "source": [
    "def delete_all_images(folder):\n",
    "    for i, label in enumerate(listdir(folder)):\n",
    "        print(f\"Processing {label}...\")\n",
    "        dir_path = path.join(path.join(base_directory, 'AI Students Picture'), label)\n",
    "\n",
    "        for im_file in listdir(dir_path):\n",
    "                i = im_file[0]\n",
    "                if (im_file.startswith(\"aug\")):\n",
    "                    print(f\"Deleting image at {im_file}\")\n",
    "                    delete_image(path.join(dir_path, im_file))"
   ]
  },
  {
   "cell_type": "code",
   "execution_count": null,
   "metadata": {},
   "outputs": [],
   "source": [
    "delete_all_images(path.join(base_directory, 'AI Students Picture'))"
   ]
  },
  {
   "cell_type": "code",
   "execution_count": null,
   "metadata": {},
   "outputs": [],
   "source": [
    "def check_images(folder):\n",
    "    for i, label in enumerate(listdir(folder)):\n",
    "        # print(f\"Processing {label}...\")\n",
    "        dir_path = path.join(path.join(base_directory, 'AI Students Picture'), label)\n",
    "        if len(listdir(dir_path)) < 10:\n",
    "            print(f\"Folder {label} have less than 10 images.\")\n",
    "        \n",
    "        elif len(listdir(dir_path)) > 10:\n",
    "            print(f\"Folder {label} have more than 10 images.\")"
   ]
  },
  {
   "cell_type": "code",
   "execution_count": null,
   "metadata": {},
   "outputs": [],
   "source": [
    "check_images(path.join(base_directory, 'AI Students Picture'))"
   ]
  },
  {
   "cell_type": "code",
   "execution_count": null,
   "metadata": {},
   "outputs": [],
   "source": [
    "data_dir = path.join(base_directory, 'AI Students Picture')"
   ]
  },
  {
   "cell_type": "code",
   "execution_count": null,
   "metadata": {},
   "outputs": [],
   "source": [
    "datagen = ImageDataGenerator(\n",
    "    rotation_range=40,\n",
    "    width_shift_range=0.2,\n",
    "    height_shift_range=0.2,\n",
    "    shear_range=0.2,\n",
    "    zoom_range=0.2,\n",
    "    horizontal_flip=True,\n",
    "    fill_mode='nearest',\n",
    "    brightness_range=[0.0, 1.5],\n",
    ")"
   ]
  },
  {
   "cell_type": "code",
   "execution_count": null,
   "metadata": {},
   "outputs": [],
   "source": [
    "data_dir = path.join(base_directory, 'AI Students Picture')\n",
    "\n",
    "# Define the ImageDataGenerator with augmentation settings\n",
    "datagen = ImageDataGenerator(\n",
    "    rotation_range=40,\n",
    "    width_shift_range=0.2,\n",
    "    height_shift_range=0.2,\n",
    "    shear_range=0.2,\n",
    "    zoom_range=0.2,\n",
    "    horizontal_flip=True,\n",
    "    fill_mode='nearest',\n",
    "    brightness_range=[0.0, 1.5],  # Adjust brightness\n",
    "    # contrast_range=[0.5, 1.5]  # Adjust contrast\n",
    ")\n",
    "\n",
    "# Loop through each person's folder\n",
    "for person_folder in listdir(data_dir):\n",
    "    person_folder_path = path.join(data_dir, person_folder)\n",
    "    print(f\"Processing {person_folder}...\")\n",
    "    if (person_folder == \"Tiruzer Tsedeke\"):\n",
    "        continue\n",
    "    \n",
    "    # Loop through each image in the person's folder\n",
    "    for image_name in listdir(person_folder_path):\n",
    "        image_path = path.join(person_folder_path, image_name)\n",
    "        img = load_img(image_path)\n",
    "        x = img_to_array(img)\n",
    "        x = x.reshape((1,) + x.shape)\n",
    "\n",
    "        print(f\"Augmenting {image_name}...\")\n",
    "\n",
    "        # Generate augmented images\n",
    "        for i, batch in enumerate(datagen.flow(x, batch_size=1, save_to_dir=person_folder_path, save_prefix=f'{image_name}th_', save_format='jpg')):\n",
    "            if i >= 2:  # Generate 10 augmentations\n",
    "                break"
   ]
  }
 ],
 "metadata": {
  "kernelspec": {
   "display_name": "Python 3",
   "language": "python",
   "name": "python3"
  },
  "language_info": {
   "codemirror_mode": {
    "name": "ipython",
    "version": 3
   },
   "file_extension": ".py",
   "mimetype": "text/x-python",
   "name": "python",
   "nbconvert_exporter": "python",
   "pygments_lexer": "ipython3",
   "version": "3.10.12"
  }
 },
 "nbformat": 4,
 "nbformat_minor": 2
}
